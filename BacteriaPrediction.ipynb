{
  "nbformat": 4,
  "nbformat_minor": 0,
  "metadata": {
    "colab": {
      "provenance": [],
      "gpuType": "T4",
      "authorship_tag": "ABX9TyN2r1lVYHwhZwA8SfxA5qSN",
      "include_colab_link": true
    },
    "kernelspec": {
      "name": "python3",
      "display_name": "Python 3"
    },
    "language_info": {
      "name": "python"
    },
    "accelerator": "GPU"
  },
  "cells": [
    {
      "cell_type": "markdown",
      "metadata": {
        "id": "view-in-github",
        "colab_type": "text"
      },
      "source": [
        "<a href=\"https://colab.research.google.com/github/Ayush8795/Bacteria/blob/main/BacteriaPrediction.ipynb\" target=\"_parent\"><img src=\"https://colab.research.google.com/assets/colab-badge.svg\" alt=\"Open In Colab\"/></a>"
      ]
    },
    {
      "cell_type": "code",
      "execution_count": 3,
      "metadata": {
        "colab": {
          "base_uri": "https://localhost:8080/"
        },
        "id": "n1RoiDdbH4Jz",
        "outputId": "d01720c5-f718-47bd-d134-9acd73594984"
      },
      "outputs": [
        {
          "output_type": "stream",
          "name": "stdout",
          "text": [
            "Mounted at /content/GoogleDrive\n"
          ]
        }
      ],
      "source": [
        "from google.colab import drive\n",
        "drive.mount('/content/GoogleDrive')"
      ]
    },
    {
      "cell_type": "code",
      "source": [
        "import pandas as pd\n",
        "import numpy as np\n",
        "import tensorflow as tf"
      ],
      "metadata": {
        "id": "yzx8y6IqH_zO"
      },
      "execution_count": 4,
      "outputs": []
    },
    {
      "cell_type": "code",
      "source": [
        "import tensorflow_hub as hub\n",
        "from tensorflow.keras import layers\n",
        "from tensorflow.keras.layers.experimental import preprocessing\n",
        "import os"
      ],
      "metadata": {
        "id": "iMHG66uII34O"
      },
      "execution_count": 5,
      "outputs": []
    },
    {
      "cell_type": "code",
      "source": [
        "IMG_SIZE = (224, 224)\n",
        "BATCH_SIZE = 16\n",
        "data_path= '/content/GoogleDrive/MyDrive/dataset/dataset'"
      ],
      "metadata": {
        "id": "AX_YeRb_Jbho"
      },
      "execution_count": 50,
      "outputs": []
    },
    {
      "cell_type": "code",
      "source": [
        "classes= os.listdir(data_path)"
      ],
      "metadata": {
        "id": "2P-UqvUoMLXf"
      },
      "execution_count": 51,
      "outputs": []
    },
    {
      "cell_type": "code",
      "source": [
        "classes"
      ],
      "metadata": {
        "colab": {
          "base_uri": "https://localhost:8080/"
        },
        "id": "1fa19eH_MOxa",
        "outputId": "47d79e1d-2c24-4e0c-8eb6-a21d6e7779e5"
      },
      "execution_count": 52,
      "outputs": [
        {
          "output_type": "execute_result",
          "data": {
            "text/plain": [
              "['P.aeruginosa', 'S.aureus', 'E.coli', 'C.albicans', 'B.subtilis']"
            ]
          },
          "metadata": {},
          "execution_count": 52
        }
      ]
    },
    {
      "cell_type": "code",
      "source": [
        "import cv2"
      ],
      "metadata": {
        "id": "-LVb92yczkyj"
      },
      "execution_count": 53,
      "outputs": []
    },
    {
      "cell_type": "code",
      "source": [
        "data=[]\n",
        "labels=[]"
      ],
      "metadata": {
        "id": "DJagU-D7zkuX"
      },
      "execution_count": 66,
      "outputs": []
    },
    {
      "cell_type": "code",
      "source": [
        "for cls in classes:\n",
        "  pth= os.path.join(data_path,cls)\n",
        "  images= os.listdir(pth)\n",
        "  print('Loading images of {}'.format(cls))\n",
        "  for img in images:\n",
        "    img_path= os.path.join(pth,img)\n",
        "    # print(img_path)\n",
        "    image= cv2.imread(img_path)\n",
        "    image= cv2.cvtColor(image,cv2.COLOR_BGR2RGB)\n",
        "    image= cv2.resize(image,IMG_SIZE)\n",
        "    # print(imag)\n",
        "    data.append(image)\n",
        "    labels.append(cls)"
      ],
      "metadata": {
        "colab": {
          "base_uri": "https://localhost:8080/"
        },
        "id": "0LIxYf3TzktI",
        "outputId": "73b44fe8-78ad-4d12-a466-223c918f3d8b"
      },
      "execution_count": 67,
      "outputs": [
        {
          "output_type": "stream",
          "name": "stdout",
          "text": [
            "Loading images of P.aeruginosa\n",
            "Loading images of S.aureus\n",
            "Loading images of E.coli\n",
            "Loading images of C.albicans\n",
            "Loading images of B.subtilis\n"
          ]
        }
      ]
    },
    {
      "cell_type": "code",
      "source": [
        "labels"
      ],
      "metadata": {
        "id": "jTf9EbpN_LSs"
      },
      "execution_count": null,
      "outputs": []
    },
    {
      "cell_type": "code",
      "source": [
        "from sklearn.preprocessing import LabelBinarizer\n",
        "from sklearn.model_selection import train_test_split as tts"
      ],
      "metadata": {
        "id": "v2co0iBA2C9l"
      },
      "execution_count": 70,
      "outputs": []
    },
    {
      "cell_type": "code",
      "source": [
        "lb= LabelBinarizer()\n",
        "lab= lb.fit_transform(labels)"
      ],
      "metadata": {
        "id": "shmnq0c43J_Z"
      },
      "execution_count": 71,
      "outputs": []
    },
    {
      "cell_type": "code",
      "source": [
        "X= np.array(data)\n",
        "Y= np.array(lab)"
      ],
      "metadata": {
        "id": "JhwZgnVx3J-H"
      },
      "execution_count": 72,
      "outputs": []
    },
    {
      "cell_type": "code",
      "source": [
        "lab"
      ],
      "metadata": {
        "id": "tlHG8UJPA698"
      },
      "execution_count": null,
      "outputs": []
    },
    {
      "cell_type": "code",
      "source": [
        "x_train,x_test,y_train,y_test= tts(X,Y,random_state=42,test_size=0.2)"
      ],
      "metadata": {
        "id": "MRh4hmQM3nwL"
      },
      "execution_count": 74,
      "outputs": []
    },
    {
      "cell_type": "code",
      "source": [],
      "metadata": {
        "id": "o4dCSpEv-FbU"
      },
      "execution_count": null,
      "outputs": []
    },
    {
      "cell_type": "code",
      "source": [
        "len(y_test)"
      ],
      "metadata": {
        "colab": {
          "base_uri": "https://localhost:8080/"
        },
        "id": "eQ_PeX8C3nu5",
        "outputId": "ab35beb0-cb7b-4385-9f30-ad18a79bf35e"
      },
      "execution_count": 75,
      "outputs": [
        {
          "output_type": "execute_result",
          "data": {
            "text/plain": [
              "110"
            ]
          },
          "metadata": {},
          "execution_count": 75
        }
      ]
    },
    {
      "cell_type": "code",
      "source": [
        "from keras.preprocessing.image import ImageDataGenerator"
      ],
      "metadata": {
        "id": "Xx81IWtT4INi"
      },
      "execution_count": 76,
      "outputs": []
    },
    {
      "cell_type": "code",
      "source": [
        "traug= ImageDataGenerator(\n",
        "    rotation_range= 30,\n",
        "    zoom_range= 0.15,\n",
        "    width_shift_range= 0.2,\n",
        "    height_shift_range= 0.2,\n",
        "    shear_range= 0.15,\n",
        "    horizontal_flip= True,\n",
        "    fill_mode= \"nearest\")\n",
        "valaug= ImageDataGenerator()"
      ],
      "metadata": {
        "id": "khXQbSIK36ck"
      },
      "execution_count": 77,
      "outputs": []
    },
    {
      "cell_type": "code",
      "source": [],
      "metadata": {
        "id": "byRMRp-s36bJ"
      },
      "execution_count": 77,
      "outputs": []
    },
    {
      "cell_type": "markdown",
      "source": [
        "## VGG19 Model"
      ],
      "metadata": {
        "id": "06Ul988gOav4"
      }
    },
    {
      "cell_type": "code",
      "source": [
        "# Load the pre-trained InceptionV3 model\n",
        "base_model = tf.keras.applications.vgg19.VGG19(\n",
        "    include_top=False,\n",
        "    weights='imagenet'\n",
        ")"
      ],
      "metadata": {
        "id": "I31hRRAOMcvQ"
      },
      "execution_count": 78,
      "outputs": []
    },
    {
      "cell_type": "code",
      "source": [
        "base_model.trainable = True"
      ],
      "metadata": {
        "id": "V7I0MfzlMh_k"
      },
      "execution_count": 79,
      "outputs": []
    },
    {
      "cell_type": "code",
      "source": [
        "#Neural network\n",
        "# from tensorflow.keras.applications import ResNet50\n",
        "from keras.layers import Input\n",
        "# from keras.layers.pooling import AveragePooling2D\n",
        "from keras.layers import Flatten\n",
        "from keras.layers import Dense\n",
        "from keras.layers import Dropout\n",
        "from keras.models import Model"
      ],
      "metadata": {
        "id": "iEozWB6w5PMN"
      },
      "execution_count": 80,
      "outputs": []
    },
    {
      "cell_type": "code",
      "source": [
        "# headModel= base_model.output\n",
        "# headModel= layers.MaxPooling2D(pool_size= (7,7))(headModel)\n",
        "# headModel= Flatten(name= \"flatten\")(headModel)\n",
        "# headModel= Dense(512,activation= \"relu\")(headModel)\n",
        "# headModel= Dropout(0.5)(headModel)\n",
        "# headModel= Dense(len(lb.classes_), activation= 'softmax')(headModel)\n",
        "# model= Model(inputs= baseModel.input, outputs= headModel)"
      ],
      "metadata": {
        "id": "QTIUGtrn5PKx"
      },
      "execution_count": 81,
      "outputs": []
    },
    {
      "cell_type": "code",
      "source": [
        "datAug = tf.keras.Sequential([\n",
        "    preprocessing.RandomRotation(0.2),\n",
        "    preprocessing.RandomZoom(0.2),\n",
        "    preprocessing.RandomFlip('horizontal')\n",
        "], name=\"data_augmentation\")"
      ],
      "metadata": {
        "id": "nVywCaVv7O5X"
      },
      "execution_count": 82,
      "outputs": []
    },
    {
      "cell_type": "code",
      "source": [
        "inputs = tf.keras.layers.Input(shape=(224, 224, 3), name=\"input_layer\")\n",
        "x = datAug(inputs)\n",
        "x = base_model(x, training=True)\n",
        "x = layers.GlobalMaxPooling2D()(x)\n",
        "outputs = tf.keras.layers.Dense(len(classes), activation=\"softmax\", name=\"output_layer\")(x)\n",
        "model = tf.keras.models.Model(inputs, outputs)"
      ],
      "metadata": {
        "id": "OK9i0JAoPapS"
      },
      "execution_count": 90,
      "outputs": []
    },
    {
      "cell_type": "code",
      "source": [
        "# Compile the model\n",
        "model.compile(loss='categorical_crossentropy',\n",
        "              optimizer=tf.keras.optimizers.Adam(learning_rate=0.0001),\n",
        "              metrics=[\"accuracy\"])"
      ],
      "metadata": {
        "id": "i90DRqZrPyBw"
      },
      "execution_count": 93,
      "outputs": []
    },
    {
      "cell_type": "code",
      "source": [
        "x_train"
      ],
      "metadata": {
        "id": "lEvawiQd9me8"
      },
      "execution_count": null,
      "outputs": []
    },
    {
      "cell_type": "code",
      "source": [
        "# Train the model\n",
        "his= model.fit(\n",
        "    traug.flow(x_train,y_train,batch_size=BATCH_SIZE),\n",
        "    epochs=60,\n",
        "    batch_size= BATCH_SIZE,\n",
        "    steps_per_epoch=len(x_train)//BATCH_SIZE,\n",
        "    validation_data= valaug.flow(x_test,y_test,batch_size=BATCH_SIZE),\n",
        "    validation_steps=len(x_test)//BATCH_SIZE\n",
        ")"
      ],
      "metadata": {
        "colab": {
          "base_uri": "https://localhost:8080/"
        },
        "id": "vMfGtSbT7iZw",
        "outputId": "e2afc81d-19c1-457a-d451-1fd00e429c2b"
      },
      "execution_count": 94,
      "outputs": [
        {
          "output_type": "stream",
          "name": "stdout",
          "text": [
            "Epoch 1/60\n",
            "27/27 [==============================] - 32s 396ms/step - loss: 4.2365 - accuracy: 0.2399 - val_loss: 1.6558 - val_accuracy: 0.1979\n",
            "Epoch 2/60\n",
            "27/27 [==============================] - 11s 389ms/step - loss: 1.6184 - accuracy: 0.2708 - val_loss: 1.5172 - val_accuracy: 0.3542\n",
            "Epoch 3/60\n",
            "27/27 [==============================] - 8s 289ms/step - loss: 1.4607 - accuracy: 0.3563 - val_loss: 1.1268 - val_accuracy: 0.5833\n",
            "Epoch 4/60\n",
            "27/27 [==============================] - 9s 313ms/step - loss: 1.3435 - accuracy: 0.4038 - val_loss: 1.4547 - val_accuracy: 0.4271\n",
            "Epoch 5/60\n",
            "27/27 [==============================] - 10s 383ms/step - loss: 1.1891 - accuracy: 0.4941 - val_loss: 1.1387 - val_accuracy: 0.4688\n",
            "Epoch 6/60\n",
            "27/27 [==============================] - 8s 301ms/step - loss: 0.9164 - accuracy: 0.6532 - val_loss: 0.7393 - val_accuracy: 0.7083\n",
            "Epoch 7/60\n",
            "27/27 [==============================] - 10s 379ms/step - loss: 0.9038 - accuracy: 0.6271 - val_loss: 1.2439 - val_accuracy: 0.4896\n",
            "Epoch 8/60\n",
            "27/27 [==============================] - 8s 298ms/step - loss: 0.7573 - accuracy: 0.7007 - val_loss: 1.1440 - val_accuracy: 0.5312\n",
            "Epoch 9/60\n",
            "27/27 [==============================] - 10s 370ms/step - loss: 0.6550 - accuracy: 0.7078 - val_loss: 2.4793 - val_accuracy: 0.4583\n",
            "Epoch 10/60\n",
            "27/27 [==============================] - 8s 292ms/step - loss: 0.8904 - accuracy: 0.6318 - val_loss: 0.8994 - val_accuracy: 0.5729\n",
            "Epoch 11/60\n",
            "27/27 [==============================] - 10s 391ms/step - loss: 0.5273 - accuracy: 0.7625 - val_loss: 1.3343 - val_accuracy: 0.5938\n",
            "Epoch 12/60\n",
            "27/27 [==============================] - 9s 331ms/step - loss: 0.4827 - accuracy: 0.7625 - val_loss: 0.8068 - val_accuracy: 0.7292\n",
            "Epoch 13/60\n",
            "27/27 [==============================] - 10s 356ms/step - loss: 0.4329 - accuracy: 0.8219 - val_loss: 9.9490 - val_accuracy: 0.5208\n",
            "Epoch 14/60\n",
            "27/27 [==============================] - 9s 314ms/step - loss: 0.7663 - accuracy: 0.7173 - val_loss: 0.5105 - val_accuracy: 0.8125\n",
            "Epoch 15/60\n",
            "27/27 [==============================] - 10s 372ms/step - loss: 0.4444 - accuracy: 0.8171 - val_loss: 1.5751 - val_accuracy: 0.6458\n",
            "Epoch 16/60\n",
            "27/27 [==============================] - 8s 292ms/step - loss: 0.4206 - accuracy: 0.8124 - val_loss: 1.4181 - val_accuracy: 0.6146\n",
            "Epoch 17/60\n",
            "27/27 [==============================] - 10s 376ms/step - loss: 0.4852 - accuracy: 0.8124 - val_loss: 0.4329 - val_accuracy: 0.7812\n",
            "Epoch 18/60\n",
            "27/27 [==============================] - 9s 312ms/step - loss: 0.3380 - accuracy: 0.8361 - val_loss: 0.8029 - val_accuracy: 0.7396\n",
            "Epoch 19/60\n",
            "27/27 [==============================] - 9s 301ms/step - loss: 0.3164 - accuracy: 0.8409 - val_loss: 2.5934 - val_accuracy: 0.6250\n",
            "Epoch 20/60\n",
            "27/27 [==============================] - 10s 379ms/step - loss: 0.3037 - accuracy: 0.8812 - val_loss: 1.4847 - val_accuracy: 0.7604\n",
            "Epoch 21/60\n",
            "27/27 [==============================] - 9s 324ms/step - loss: 0.3135 - accuracy: 0.8646 - val_loss: 0.2404 - val_accuracy: 0.9271\n",
            "Epoch 22/60\n",
            "27/27 [==============================] - 10s 357ms/step - loss: 0.2734 - accuracy: 0.8836 - val_loss: 0.6719 - val_accuracy: 0.8021\n",
            "Epoch 23/60\n",
            "27/27 [==============================] - 8s 298ms/step - loss: 0.2282 - accuracy: 0.8979 - val_loss: 0.8600 - val_accuracy: 0.7812\n",
            "Epoch 24/60\n",
            "27/27 [==============================] - 10s 383ms/step - loss: 0.2940 - accuracy: 0.8717 - val_loss: 0.3046 - val_accuracy: 0.8646\n",
            "Epoch 25/60\n",
            "27/27 [==============================] - 8s 296ms/step - loss: 0.3580 - accuracy: 0.8504 - val_loss: 0.7249 - val_accuracy: 0.7083\n",
            "Epoch 26/60\n",
            "27/27 [==============================] - 10s 382ms/step - loss: 0.2436 - accuracy: 0.8979 - val_loss: 1.7205 - val_accuracy: 0.7917\n",
            "Epoch 27/60\n",
            "27/27 [==============================] - 8s 300ms/step - loss: 0.1869 - accuracy: 0.9169 - val_loss: 1.0650 - val_accuracy: 0.8750\n",
            "Epoch 28/60\n",
            "27/27 [==============================] - 10s 366ms/step - loss: 0.1999 - accuracy: 0.9121 - val_loss: 0.5488 - val_accuracy: 0.9271\n",
            "Epoch 29/60\n",
            "27/27 [==============================] - 8s 307ms/step - loss: 0.2124 - accuracy: 0.9169 - val_loss: 0.6036 - val_accuracy: 0.8333\n",
            "Epoch 30/60\n",
            "27/27 [==============================] - 9s 307ms/step - loss: 0.1846 - accuracy: 0.9169 - val_loss: 0.5917 - val_accuracy: 0.8542\n",
            "Epoch 31/60\n",
            "27/27 [==============================] - 10s 383ms/step - loss: 0.3007 - accuracy: 0.8884 - val_loss: 1.2136 - val_accuracy: 0.7708\n",
            "Epoch 32/60\n",
            "27/27 [==============================] - 8s 297ms/step - loss: 0.5224 - accuracy: 0.8076 - val_loss: 0.3404 - val_accuracy: 0.8958\n",
            "Epoch 33/60\n",
            "27/27 [==============================] - 10s 386ms/step - loss: 0.2889 - accuracy: 0.8836 - val_loss: 1.0286 - val_accuracy: 0.7604\n",
            "Epoch 34/60\n",
            "27/27 [==============================] - 8s 299ms/step - loss: 0.2279 - accuracy: 0.9074 - val_loss: 0.7052 - val_accuracy: 0.8854\n",
            "Epoch 35/60\n",
            "27/27 [==============================] - 10s 386ms/step - loss: 0.2306 - accuracy: 0.9050 - val_loss: 1.1196 - val_accuracy: 0.8438\n",
            "Epoch 36/60\n",
            "27/27 [==============================] - 8s 298ms/step - loss: 0.2719 - accuracy: 0.9074 - val_loss: 0.8034 - val_accuracy: 0.7500\n",
            "Epoch 37/60\n",
            "27/27 [==============================] - 9s 306ms/step - loss: 0.2625 - accuracy: 0.9050 - val_loss: 1.0203 - val_accuracy: 0.7083\n",
            "Epoch 38/60\n",
            "27/27 [==============================] - 10s 385ms/step - loss: 0.1888 - accuracy: 0.9169 - val_loss: 0.5427 - val_accuracy: 0.8229\n",
            "Epoch 39/60\n",
            "27/27 [==============================] - 10s 347ms/step - loss: 0.2205 - accuracy: 0.9311 - val_loss: 0.4714 - val_accuracy: 0.8750\n",
            "Epoch 40/60\n",
            "27/27 [==============================] - 9s 338ms/step - loss: 0.1685 - accuracy: 0.9406 - val_loss: 0.8021 - val_accuracy: 0.8542\n",
            "Epoch 41/60\n",
            "27/27 [==============================] - 9s 336ms/step - loss: 0.2711 - accuracy: 0.8789 - val_loss: 0.2586 - val_accuracy: 0.8854\n",
            "Epoch 42/60\n",
            "27/27 [==============================] - 10s 361ms/step - loss: 0.1958 - accuracy: 0.9264 - val_loss: 0.2581 - val_accuracy: 0.9167\n",
            "Epoch 43/60\n",
            "27/27 [==============================] - 9s 314ms/step - loss: 0.1394 - accuracy: 0.9454 - val_loss: 0.5414 - val_accuracy: 0.8646\n",
            "Epoch 44/60\n",
            "27/27 [==============================] - 10s 385ms/step - loss: 0.1253 - accuracy: 0.9382 - val_loss: 3.4721 - val_accuracy: 0.6979\n",
            "Epoch 45/60\n",
            "27/27 [==============================] - 8s 294ms/step - loss: 0.2715 - accuracy: 0.9026 - val_loss: 0.7290 - val_accuracy: 0.7812\n",
            "Epoch 46/60\n",
            "27/27 [==============================] - 11s 391ms/step - loss: 0.1357 - accuracy: 0.9454 - val_loss: 0.3776 - val_accuracy: 0.9167\n",
            "Epoch 47/60\n",
            "27/27 [==============================] - 8s 300ms/step - loss: 0.1065 - accuracy: 0.9572 - val_loss: 0.4040 - val_accuracy: 0.8958\n",
            "Epoch 48/60\n",
            "27/27 [==============================] - 9s 313ms/step - loss: 0.2228 - accuracy: 0.9311 - val_loss: 0.4046 - val_accuracy: 0.9375\n",
            "Epoch 49/60\n",
            "27/27 [==============================] - 10s 384ms/step - loss: 0.1370 - accuracy: 0.9525 - val_loss: 0.4589 - val_accuracy: 0.8333\n",
            "Epoch 50/60\n",
            "27/27 [==============================] - 11s 378ms/step - loss: 0.1013 - accuracy: 0.9667 - val_loss: 0.1792 - val_accuracy: 0.9375\n",
            "Epoch 51/60\n",
            "27/27 [==============================] - 9s 313ms/step - loss: 0.1633 - accuracy: 0.9382 - val_loss: 0.5121 - val_accuracy: 0.8125\n",
            "Epoch 52/60\n",
            "27/27 [==============================] - 9s 319ms/step - loss: 0.2008 - accuracy: 0.9311 - val_loss: 0.1819 - val_accuracy: 0.9375\n",
            "Epoch 53/60\n",
            "27/27 [==============================] - 10s 375ms/step - loss: 0.1246 - accuracy: 0.9572 - val_loss: 0.1924 - val_accuracy: 0.9583\n",
            "Epoch 54/60\n",
            "27/27 [==============================] - 8s 300ms/step - loss: 0.1091 - accuracy: 0.9525 - val_loss: 1.0508 - val_accuracy: 0.7604\n",
            "Epoch 55/60\n",
            "27/27 [==============================] - 11s 378ms/step - loss: 0.1838 - accuracy: 0.9382 - val_loss: 0.5218 - val_accuracy: 0.9271\n",
            "Epoch 56/60\n",
            "27/27 [==============================] - 9s 320ms/step - loss: 0.1348 - accuracy: 0.9430 - val_loss: 0.4891 - val_accuracy: 0.8646\n",
            "Epoch 57/60\n",
            "27/27 [==============================] - 9s 308ms/step - loss: 0.1434 - accuracy: 0.9596 - val_loss: 0.3988 - val_accuracy: 0.9167\n",
            "Epoch 58/60\n",
            "27/27 [==============================] - 10s 381ms/step - loss: 0.0921 - accuracy: 0.9667 - val_loss: 0.5640 - val_accuracy: 0.9062\n",
            "Epoch 59/60\n",
            "27/27 [==============================] - 8s 299ms/step - loss: 0.0916 - accuracy: 0.9739 - val_loss: 0.2043 - val_accuracy: 0.9375\n",
            "Epoch 60/60\n",
            "27/27 [==============================] - 11s 392ms/step - loss: 0.0892 - accuracy: 0.9644 - val_loss: 0.5439 - val_accuracy: 0.9062\n"
          ]
        }
      ]
    },
    {
      "cell_type": "code",
      "source": [
        "import joblib\n",
        "joblib.dump(model,'/content/GoogleDrive/MyDrive/dataset/models/vggmodel.pkl')"
      ],
      "metadata": {
        "colab": {
          "base_uri": "https://localhost:8080/"
        },
        "id": "VkF3l6xl7iYr",
        "outputId": "fada7d19-4ca4-4033-b85e-b838d442df3a"
      },
      "execution_count": 95,
      "outputs": [
        {
          "output_type": "execute_result",
          "data": {
            "text/plain": [
              "['/content/GoogleDrive/MyDrive/dataset/models/vggmodel.pkl']"
            ]
          },
          "metadata": {},
          "execution_count": 95
        }
      ]
    },
    {
      "cell_type": "code",
      "source": [
        "import matplotlib.pyplot as plt"
      ],
      "metadata": {
        "id": "OR2QKZ2zGh9p"
      },
      "execution_count": 96,
      "outputs": []
    },
    {
      "cell_type": "code",
      "source": [
        "plt.plot(his.history['accuracy'],color='b',label='Training Accuracy')\n",
        "plt.plot(his.history['val_accuracy'],color='orange',label='Validation Accuracy')\n",
        "plt.xlabel('Epochs')\n",
        "plt.ylabel('Accuracy')\n",
        "plt.title('Training and Testing Accuracy')\n",
        "plt.legend()\n",
        "plt.show()"
      ],
      "metadata": {
        "colab": {
          "base_uri": "https://localhost:8080/",
          "height": 472
        },
        "id": "pvEPHgeVGrxs",
        "outputId": "924e494d-5539-49f3-91b7-77bf35bc3ccb"
      },
      "execution_count": 103,
      "outputs": [
        {
          "output_type": "display_data",
          "data": {
            "text/plain": [
              "<Figure size 640x480 with 1 Axes>"
            ],
            "image/png": "[encoded data removed]"
          },
          "metadata": {}
        }
      ]
    },
    {
      "cell_type": "code",
      "source": [
        "model.summary()"
      ],
      "metadata": {
        "colab": {
          "base_uri": "https://localhost:8080/"
        },
        "id": "56jGSUjGGwOo",
        "outputId": "bf12ed2d-8470-4e69-8880-852902a5c40c"
      },
      "execution_count": 104,
      "outputs": [
        {
          "output_type": "stream",
          "name": "stdout",
          "text": [
            "Model: \"model_3\"\n",
            "_________________________________________________________________\n",
            " Layer (type)                Output Shape              Param #   \n",
            "=================================================================\n",
            " input_layer (InputLayer)    [(None, 224, 224, 3)]     0         \n",
            "                                                                 \n",
            " data_augmentation (Sequent  (None, None, None, None   0         \n",
            " ial)                        )                                   \n",
            "                                                                 \n",
            " vgg19 (Functional)          (None, None, None, 512)   20024384  \n",
            "                                                                 \n",
            " global_max_pooling2d_1 (Gl  (None, 512)               0         \n",
            " obalMaxPooling2D)                                               \n",
            "                                                                 \n",
            " output_layer (Dense)        (None, 5)                 2565      \n",
            "                                                                 \n",
            "=================================================================\n",
            "Total params: 20026949 (76.40 MB)\n",
            "Trainable params: 20026949 (76.40 MB)\n",
            "Non-trainable params: 0 (0.00 Byte)\n",
            "_________________________________________________________________\n"
          ]
        }
      ]
    },
    {
      "cell_type": "code",
      "source": [
        "from keras.utils import plot_model"
      ],
      "metadata": {
        "id": "9HoMIYSaKtGX"
      },
      "execution_count": 105,
      "outputs": []
    },
    {
      "cell_type": "code",
      "source": [
        "plot_model(model,to_file='model_plot.png',show_shapes=True,show_layer_names=True)"
      ],
      "metadata": {
        "colab": {
          "base_uri": "https://localhost:8080/",
          "height": 533
        },
        "id": "okz58pS6Lb1q",
        "outputId": "0c1136b8-e631-4ca8-9d20-cbc42adc3ed2"
      },
      "execution_count": 106,
      "outputs": [
        {
          "output_type": "execute_result",
          "data": {
            "image/png": "[encoded data removed]",
            "text/plain": [
              "<IPython.core.display.Image object>"
            ]
          },
          "metadata": {},
          "execution_count": 106
        }
      ]
    },
    {
      "cell_type": "code",
      "source": [
        "plot_model(\n",
        "    model,\n",
        "    to_file='model_plot_3d.png',\n",
        "    expand_nested=True,\n",
        "    show_shapes=True,\n",
        "    show_layer_names=True\n",
        ")"
      ],
      "metadata": {
        "id": "-AwY10CdLtK9"
      },
      "execution_count": null,
      "outputs": []
    },
    {
      "cell_type": "markdown",
      "source": [
        "##Inception Model"
      ],
      "metadata": {
        "id": "7glhMa6KOBfM"
      }
    },
    {
      "cell_type": "code",
      "source": [
        "# Load the pre-trained InceptionV3 model\n",
        "base_model = tf.keras.applications.InceptionV3(\n",
        "    include_top=False,\n",
        "    weights='imagenet'\n",
        ")"
      ],
      "metadata": {
        "colab": {
          "base_uri": "https://localhost:8080/"
        },
        "id": "a2sOtsrCMTw0",
        "outputId": "621fb1dd-7862-42a1-f1fe-e6ab0c3c880d"
      },
      "execution_count": 109,
      "outputs": [
        {
          "output_type": "stream",
          "name": "stdout",
          "text": [
            "Downloading data from https://storage.googleapis.com/tensorflow/keras-applications/inception_v3/inception_v3_weights_tf_dim_ordering_tf_kernels_notop.h5\n",
            "87910968/87910968 [==============================] - 0s 0us/step\n"
          ]
        }
      ]
    },
    {
      "cell_type": "code",
      "source": [
        "base_model.trainable = True"
      ],
      "metadata": {
        "id": "sSi_QkfgOiBC"
      },
      "execution_count": 110,
      "outputs": []
    },
    {
      "cell_type": "code",
      "source": [
        "#Neural network\n",
        "# from tensorflow.keras.applications import ResNet50\n",
        "from keras.layers import Input\n",
        "# from keras.layers.pooling import AveragePooling2D\n",
        "from keras.layers import Flatten\n",
        "from keras.layers import Dense\n",
        "from keras.layers import Dropout\n",
        "from keras.models import Model"
      ],
      "metadata": {
        "id": "JOSZfP86O3yD"
      },
      "execution_count": 111,
      "outputs": []
    },
    {
      "cell_type": "code",
      "source": [
        "datAug = tf.keras.Sequential([\n",
        "    preprocessing.RandomRotation(0.2),\n",
        "    preprocessing.RandomZoom(0.2),\n",
        "    preprocessing.RandomFlip('horizontal')\n",
        "], name=\"data_augmentation\")"
      ],
      "metadata": {
        "id": "aSJjtdm9O7lU"
      },
      "execution_count": 112,
      "outputs": []
    },
    {
      "cell_type": "code",
      "source": [
        "inputs = tf.keras.layers.Input(shape=(224, 224, 3), name=\"input_layer\")\n",
        "x = datAug(inputs)\n",
        "x = base_model(x, training=True)\n",
        "x = layers.GlobalMaxPooling2D()(x)\n",
        "outputs = tf.keras.layers.Dense(len(classes), activation=\"softmax\", name=\"output_layer\")(x)\n",
        "model = tf.keras.models.Model(inputs, outputs)"
      ],
      "metadata": {
        "id": "L5eCQgwiO-4u"
      },
      "execution_count": 113,
      "outputs": []
    },
    {
      "cell_type": "code",
      "source": [
        "# Compile the model\n",
        "model.compile(loss='categorical_crossentropy',\n",
        "              optimizer=tf.keras.optimizers.Adam(learning_rate=0.0001),\n",
        "              metrics=[\"accuracy\"])"
      ],
      "metadata": {
        "id": "318HwsxZPd_S"
      },
      "execution_count": 114,
      "outputs": []
    },
    {
      "cell_type": "code",
      "source": [
        "# Train the model\n",
        "hist= model.fit(\n",
        "    traug.flow(x_train,y_train,batch_size=BATCH_SIZE),\n",
        "    epochs=60,\n",
        "    batch_size= BATCH_SIZE,\n",
        "    steps_per_epoch=len(x_train)//BATCH_SIZE,\n",
        "    validation_data= valaug.flow(x_test,y_test,batch_size=BATCH_SIZE),\n",
        "    validation_steps=len(x_test)//BATCH_SIZE\n",
        ")"
      ],
      "metadata": {
        "colab": {
          "base_uri": "https://localhost:8080/"
        },
        "id": "abg4o_UFPjvR",
        "outputId": "dc4d98e7-f2bc-4fa4-c04f-56ed3df8053c"
      },
      "execution_count": 115,
      "outputs": [
        {
          "output_type": "stream",
          "name": "stdout",
          "text": [
            "Epoch 1/60\n",
            "27/27 [==============================] - 49s 425ms/step - loss: 1.6361 - accuracy: 0.5226 - val_loss: 1.2105 - val_accuracy: 0.6250\n",
            "Epoch 2/60\n",
            "27/27 [==============================] - 7s 234ms/step - loss: 0.8761 - accuracy: 0.6983 - val_loss: 1.0071 - val_accuracy: 0.6979\n",
            "Epoch 3/60\n",
            "27/27 [==============================] - 7s 276ms/step - loss: 0.6322 - accuracy: 0.7886 - val_loss: 0.6647 - val_accuracy: 0.6875\n",
            "Epoch 4/60\n",
            "27/27 [==============================] - 8s 285ms/step - loss: 0.6095 - accuracy: 0.7743 - val_loss: 0.6890 - val_accuracy: 0.7708\n",
            "Epoch 5/60\n",
            "27/27 [==============================] - 8s 297ms/step - loss: 0.4969 - accuracy: 0.8242 - val_loss: 0.6337 - val_accuracy: 0.7604\n",
            "Epoch 6/60\n",
            "27/27 [==============================] - 6s 227ms/step - loss: 0.4260 - accuracy: 0.8527 - val_loss: 0.6980 - val_accuracy: 0.7396\n",
            "Epoch 7/60\n",
            "27/27 [==============================] - 9s 324ms/step - loss: 0.4283 - accuracy: 0.8409 - val_loss: 0.6911 - val_accuracy: 0.7604\n",
            "Epoch 8/60\n",
            "27/27 [==============================] - 6s 229ms/step - loss: 0.4881 - accuracy: 0.8052 - val_loss: 0.5729 - val_accuracy: 0.8021\n",
            "Epoch 9/60\n",
            "27/27 [==============================] - 8s 284ms/step - loss: 0.4505 - accuracy: 0.8219 - val_loss: 0.4998 - val_accuracy: 0.8125\n",
            "Epoch 10/60\n",
            "27/27 [==============================] - 8s 278ms/step - loss: 0.3834 - accuracy: 0.8504 - val_loss: 0.3563 - val_accuracy: 0.8854\n",
            "Epoch 11/60\n",
            "27/27 [==============================] - 7s 252ms/step - loss: 0.3294 - accuracy: 0.8836 - val_loss: 0.4500 - val_accuracy: 0.8646\n",
            "Epoch 12/60\n",
            "27/27 [==============================] - 6s 227ms/step - loss: 0.3186 - accuracy: 0.8741 - val_loss: 0.7311 - val_accuracy: 0.7708\n",
            "Epoch 13/60\n",
            "27/27 [==============================] - 8s 303ms/step - loss: 0.2311 - accuracy: 0.9216 - val_loss: 0.4634 - val_accuracy: 0.8438\n",
            "Epoch 14/60\n",
            "27/27 [==============================] - 8s 277ms/step - loss: 0.2966 - accuracy: 0.8979 - val_loss: 0.2524 - val_accuracy: 0.9271\n",
            "Epoch 15/60\n",
            "27/27 [==============================] - 8s 283ms/step - loss: 0.2624 - accuracy: 0.8955 - val_loss: 0.3525 - val_accuracy: 0.8646\n",
            "Epoch 16/60\n",
            "27/27 [==============================] - 8s 307ms/step - loss: 0.3008 - accuracy: 0.9002 - val_loss: 0.4096 - val_accuracy: 0.8021\n",
            "Epoch 17/60\n",
            "27/27 [==============================] - 7s 249ms/step - loss: 0.2506 - accuracy: 0.9097 - val_loss: 0.3410 - val_accuracy: 0.8646\n",
            "Epoch 18/60\n",
            "27/27 [==============================] - 9s 338ms/step - loss: 0.2491 - accuracy: 0.8979 - val_loss: 0.5459 - val_accuracy: 0.8750\n",
            "Epoch 19/60\n",
            "27/27 [==============================] - 6s 231ms/step - loss: 0.1857 - accuracy: 0.9192 - val_loss: 0.3399 - val_accuracy: 0.8646\n",
            "Epoch 20/60\n",
            "27/27 [==============================] - 9s 309ms/step - loss: 0.2643 - accuracy: 0.9145 - val_loss: 0.5431 - val_accuracy: 0.8021\n",
            "Epoch 21/60\n",
            "27/27 [==============================] - 6s 230ms/step - loss: 0.2310 - accuracy: 0.9145 - val_loss: 0.3391 - val_accuracy: 0.8750\n",
            "Epoch 22/60\n",
            "27/27 [==============================] - 6s 226ms/step - loss: 0.1818 - accuracy: 0.9406 - val_loss: 0.4684 - val_accuracy: 0.8438\n",
            "Epoch 23/60\n",
            "27/27 [==============================] - 8s 295ms/step - loss: 0.1936 - accuracy: 0.9050 - val_loss: 0.4021 - val_accuracy: 0.8646\n",
            "Epoch 24/60\n",
            "27/27 [==============================] - 6s 226ms/step - loss: 0.2078 - accuracy: 0.9216 - val_loss: 0.3061 - val_accuracy: 0.8750\n",
            "Epoch 25/60\n",
            "27/27 [==============================] - 9s 315ms/step - loss: 0.1278 - accuracy: 0.9525 - val_loss: 0.3010 - val_accuracy: 0.8958\n",
            "Epoch 26/60\n",
            "27/27 [==============================] - 7s 246ms/step - loss: 0.1573 - accuracy: 0.9382 - val_loss: 0.4212 - val_accuracy: 0.8854\n",
            "Epoch 27/60\n",
            "27/27 [==============================] - 7s 282ms/step - loss: 0.2553 - accuracy: 0.9074 - val_loss: 0.3232 - val_accuracy: 0.8854\n",
            "Epoch 28/60\n",
            "27/27 [==============================] - 8s 283ms/step - loss: 0.1750 - accuracy: 0.9287 - val_loss: 0.2622 - val_accuracy: 0.8958\n",
            "Epoch 29/60\n",
            "27/27 [==============================] - 8s 296ms/step - loss: 0.1395 - accuracy: 0.9501 - val_loss: 0.2318 - val_accuracy: 0.9062\n",
            "Epoch 30/60\n",
            "27/27 [==============================] - 6s 225ms/step - loss: 0.1178 - accuracy: 0.9477 - val_loss: 0.3184 - val_accuracy: 0.8854\n",
            "Epoch 31/60\n",
            "27/27 [==============================] - 8s 288ms/step - loss: 0.0802 - accuracy: 0.9739 - val_loss: 0.3527 - val_accuracy: 0.8542\n",
            "Epoch 32/60\n",
            "27/27 [==============================] - 6s 226ms/step - loss: 0.1093 - accuracy: 0.9572 - val_loss: 0.1806 - val_accuracy: 0.9271\n",
            "Epoch 33/60\n",
            "27/27 [==============================] - 9s 336ms/step - loss: 0.1442 - accuracy: 0.9454 - val_loss: 0.3767 - val_accuracy: 0.8854\n",
            "Epoch 34/60\n",
            "27/27 [==============================] - 6s 227ms/step - loss: 0.1733 - accuracy: 0.9335 - val_loss: 0.2688 - val_accuracy: 0.8958\n",
            "Epoch 35/60\n",
            "27/27 [==============================] - 9s 338ms/step - loss: 0.1401 - accuracy: 0.9501 - val_loss: 0.3908 - val_accuracy: 0.8750\n",
            "Epoch 36/60\n",
            "27/27 [==============================] - 6s 224ms/step - loss: 0.1353 - accuracy: 0.9359 - val_loss: 0.2338 - val_accuracy: 0.9167\n",
            "Epoch 37/60\n",
            "27/27 [==============================] - 8s 291ms/step - loss: 0.0998 - accuracy: 0.9596 - val_loss: 0.5909 - val_accuracy: 0.8750\n",
            "Epoch 38/60\n",
            "27/27 [==============================] - 7s 258ms/step - loss: 0.1010 - accuracy: 0.9572 - val_loss: 0.3886 - val_accuracy: 0.8958\n",
            "Epoch 39/60\n",
            "27/27 [==============================] - 7s 247ms/step - loss: 0.1463 - accuracy: 0.9454 - val_loss: 0.4077 - val_accuracy: 0.8646\n",
            "Epoch 40/60\n",
            "27/27 [==============================] - 8s 299ms/step - loss: 0.1250 - accuracy: 0.9644 - val_loss: 0.3890 - val_accuracy: 0.8542\n",
            "Epoch 41/60\n",
            "27/27 [==============================] - 7s 267ms/step - loss: 0.0799 - accuracy: 0.9596 - val_loss: 0.3574 - val_accuracy: 0.9062\n",
            "Epoch 42/60\n",
            "27/27 [==============================] - 6s 227ms/step - loss: 0.0927 - accuracy: 0.9644 - val_loss: 0.2698 - val_accuracy: 0.9062\n",
            "Epoch 43/60\n",
            "27/27 [==============================] - 8s 288ms/step - loss: 0.1357 - accuracy: 0.9501 - val_loss: 0.3095 - val_accuracy: 0.8750\n",
            "Epoch 44/60\n",
            "27/27 [==============================] - 6s 226ms/step - loss: 0.1168 - accuracy: 0.9525 - val_loss: 0.3170 - val_accuracy: 0.8438\n",
            "Epoch 45/60\n",
            "27/27 [==============================] - 6s 222ms/step - loss: 0.0811 - accuracy: 0.9691 - val_loss: 0.1672 - val_accuracy: 0.9271\n",
            "Epoch 46/60\n",
            "27/27 [==============================] - 9s 320ms/step - loss: 0.1075 - accuracy: 0.9644 - val_loss: 0.3985 - val_accuracy: 0.8646\n",
            "Epoch 47/60\n",
            "27/27 [==============================] - 6s 239ms/step - loss: 0.0889 - accuracy: 0.9644 - val_loss: 0.3070 - val_accuracy: 0.9062\n",
            "Epoch 48/60\n",
            "27/27 [==============================] - 6s 223ms/step - loss: 0.0963 - accuracy: 0.9620 - val_loss: 0.1040 - val_accuracy: 0.9479\n",
            "Epoch 49/60\n",
            "27/27 [==============================] - 9s 326ms/step - loss: 0.0715 - accuracy: 0.9762 - val_loss: 0.2292 - val_accuracy: 0.9167\n",
            "Epoch 50/60\n",
            "27/27 [==============================] - 6s 224ms/step - loss: 0.0695 - accuracy: 0.9810 - val_loss: 0.3385 - val_accuracy: 0.8958\n",
            "Epoch 51/60\n",
            "27/27 [==============================] - 8s 315ms/step - loss: 0.0610 - accuracy: 0.9786 - val_loss: 0.1299 - val_accuracy: 0.9583\n",
            "Epoch 52/60\n",
            "27/27 [==============================] - 7s 233ms/step - loss: 0.0911 - accuracy: 0.9667 - val_loss: 0.2978 - val_accuracy: 0.9167\n",
            "Epoch 53/60\n",
            "27/27 [==============================] - 8s 278ms/step - loss: 0.0908 - accuracy: 0.9644 - val_loss: 0.1545 - val_accuracy: 0.9167\n",
            "Epoch 54/60\n",
            "27/27 [==============================] - 8s 271ms/step - loss: 0.0758 - accuracy: 0.9762 - val_loss: 0.3016 - val_accuracy: 0.9062\n",
            "Epoch 55/60\n",
            "27/27 [==============================] - 6s 238ms/step - loss: 0.1213 - accuracy: 0.9691 - val_loss: 0.3448 - val_accuracy: 0.8750\n",
            "Epoch 56/60\n",
            "27/27 [==============================] - 9s 323ms/step - loss: 0.0817 - accuracy: 0.9691 - val_loss: 0.1532 - val_accuracy: 0.9375\n",
            "Epoch 57/60\n",
            "27/27 [==============================] - 6s 222ms/step - loss: 0.0981 - accuracy: 0.9739 - val_loss: 0.2794 - val_accuracy: 0.9375\n",
            "Epoch 58/60\n",
            "27/27 [==============================] - 6s 230ms/step - loss: 0.0924 - accuracy: 0.9653 - val_loss: 0.2626 - val_accuracy: 0.9271\n",
            "Epoch 59/60\n",
            "27/27 [==============================] - 8s 282ms/step - loss: 0.0810 - accuracy: 0.9691 - val_loss: 0.1386 - val_accuracy: 0.9583\n",
            "Epoch 60/60\n",
            "27/27 [==============================] - 6s 224ms/step - loss: 0.0658 - accuracy: 0.9739 - val_loss: 0.2276 - val_accuracy: 0.9167\n"
          ]
        }
      ]
    },
    {
      "cell_type": "code",
      "source": [
        "import joblib\n",
        "joblib.dump(model,'/content/GoogleDrive/MyDrive/dataset/models/iv3model.pkl')"
      ],
      "metadata": {
        "colab": {
          "base_uri": "https://localhost:8080/"
        },
        "id": "J8B159j4Pso4",
        "outputId": "43328934-cb8c-4eb5-eb6d-631d0c1e2767"
      },
      "execution_count": 116,
      "outputs": [
        {
          "output_type": "execute_result",
          "data": {
            "text/plain": [
              "['/content/GoogleDrive/MyDrive/dataset/models/iv3model.pkl']"
            ]
          },
          "metadata": {},
          "execution_count": 116
        }
      ]
    },
    {
      "cell_type": "code",
      "source": [
        "model.summary()"
      ],
      "metadata": {
        "colab": {
          "base_uri": "https://localhost:8080/"
        },
        "id": "M30PPmHWR7TV",
        "outputId": "5397459f-46d2-4443-951c-c2c09a1d33ad"
      },
      "execution_count": 117,
      "outputs": [
        {
          "output_type": "stream",
          "name": "stdout",
          "text": [
            "Model: \"model_4\"\n",
            "_________________________________________________________________\n",
            " Layer (type)                Output Shape              Param #   \n",
            "=================================================================\n",
            " input_layer (InputLayer)    [(None, 224, 224, 3)]     0         \n",
            "                                                                 \n",
            " data_augmentation (Sequent  (None, None, None, None   0         \n",
            " ial)                        )                                   \n",
            "                                                                 \n",
            " inception_v3 (Functional)   (None, None, None, 2048   21802784  \n",
            "                             )                                   \n",
            "                                                                 \n",
            " global_max_pooling2d_2 (Gl  (None, 2048)              0         \n",
            " obalMaxPooling2D)                                               \n",
            "                                                                 \n",
            " output_layer (Dense)        (None, 5)                 10245     \n",
            "                                                                 \n",
            "=================================================================\n",
            "Total params: 21813029 (83.21 MB)\n",
            "Trainable params: 21778597 (83.08 MB)\n",
            "Non-trainable params: 34432 (134.50 KB)\n",
            "_________________________________________________________________\n"
          ]
        }
      ]
    },
    {
      "cell_type": "code",
      "source": [
        "plt.plot(hist.history['accuracy'],color='b',label='Training Accuracy')\n",
        "plt.plot(hist.history['val_accuracy'],color='orange',label='Validation Accuracy')\n",
        "plt.xlabel('Epochs')\n",
        "plt.ylabel('Accuracy')\n",
        "plt.title('Training and Testing Accuracy')\n",
        "plt.legend()\n",
        "plt.show()"
      ],
      "metadata": {
        "colab": {
          "base_uri": "https://localhost:8080/",
          "height": 472
        },
        "id": "ES484aARSGsm",
        "outputId": "67e2295f-c7f5-4dd5-f8e9-4133d8a6cf4f"
      },
      "execution_count": 118,
      "outputs": [
        {
          "output_type": "display_data",
          "data": {
            "text/plain": [
              "<Figure size 640x480 with 1 Axes>"
            ],
            "image/png": "[encoded data removed]"
          },
          "metadata": {}
        }
      ]
    },
    {
      "cell_type": "code",
      "source": [
        "plot_model(model,to_file='model_plot_iv3.png',show_shapes=True,show_layer_names=True)"
      ],
      "metadata": {
        "colab": {
          "base_uri": "https://localhost:8080/",
          "height": 533
        },
        "id": "Wq1n3wTTSO2C",
        "outputId": "005810a6-ca64-4457-f0d4-c5dc0ca20af0"
      },
      "execution_count": 119,
      "outputs": [
        {
          "output_type": "execute_result",
          "data": {
            "image/png": "[encoded data removed]",
            "text/plain": [
              "<IPython.core.display.Image object>"
            ]
          },
          "metadata": {},
          "execution_count": 119
        }
      ]
    },
    {
      "cell_type": "code",
      "source": [],
      "metadata": {
        "id": "h9uO-tpySqbt"
      },
      "execution_count": null,
      "outputs": []
    },
    {
      "cell_type": "code",
      "source": [],
      "metadata": {
        "id": "iwKzGiXgS-cF"
      },
      "execution_count": null,
      "outputs": []
    },
    {
      "cell_type": "markdown",
      "source": [
        "##Prediction"
      ],
      "metadata": {
        "id": "FdnrhlA1TB5g"
      }
    },
    {
      "cell_type": "code",
      "source": [
        "import joblib"
      ],
      "metadata": {
        "id": "22SxkhaMTDul"
      },
      "execution_count": 120,
      "outputs": []
    },
    {
      "cell_type": "code",
      "source": [
        "model1= joblib.load('/content/GoogleDrive/MyDrive/dataset/models/vggmodel.pkl')\n",
        "model2= joblib.load('/content/GoogleDrive/MyDrive/dataset/models/iv3model.pkl')"
      ],
      "metadata": {
        "id": "ZdxL8SL7TF1K"
      },
      "execution_count": 122,
      "outputs": []
    },
    {
      "cell_type": "code",
      "source": [
        "np.save('/content/GoogleDrive/MyDrive/dataset/train_test_arrays/x_train.npy',x_train)"
      ],
      "metadata": {
        "id": "IUcuMTuWT1O7"
      },
      "execution_count": 124,
      "outputs": []
    },
    {
      "cell_type": "code",
      "source": [
        "np.save('/content/GoogleDrive/MyDrive/dataset/train_test_arrays/x_test.npy',x_test)"
      ],
      "metadata": {
        "id": "6CYWueSQUPDt"
      },
      "execution_count": 125,
      "outputs": []
    },
    {
      "cell_type": "code",
      "source": [
        "np.save('/content/GoogleDrive/MyDrive/dataset/train_test_arrays/y_train.npy',y_train)"
      ],
      "metadata": {
        "id": "V3NYRsWAUYne"
      },
      "execution_count": 126,
      "outputs": []
    },
    {
      "cell_type": "code",
      "source": [
        "np.save('/content/GoogleDrive/MyDrive/dataset/train_test_arrays/y_test.npy',x_test)"
      ],
      "metadata": {
        "id": "JKwGsa9OUcYL"
      },
      "execution_count": 127,
      "outputs": []
    },
    {
      "cell_type": "code",
      "source": [
        "preds1 = model1.predict(x_test)\n",
        "preds2 = model2.predict(x_test)"
      ],
      "metadata": {
        "colab": {
          "base_uri": "https://localhost:8080/"
        },
        "id": "rkCz87w6UfXs",
        "outputId": "abeb8d15-18a7-4419-a0a0-0b0ed2ee2243"
      },
      "execution_count": 128,
      "outputs": [
        {
          "output_type": "stream",
          "name": "stdout",
          "text": [
            "4/4 [==============================] - 6s 680ms/step\n",
            "4/4 [==============================] - 4s 378ms/step\n"
          ]
        }
      ]
    },
    {
      "cell_type": "code",
      "source": [
        "ensemble_preds = (preds1 + preds2) / 2"
      ],
      "metadata": {
        "id": "L9cV30BMU2FL"
      },
      "execution_count": 130,
      "outputs": []
    },
    {
      "cell_type": "code",
      "source": [
        "ensemble_accuracy = np.mean(ensemble_preds == y_test)"
      ],
      "metadata": {
        "id": "qtT-FD33Unnl"
      },
      "execution_count": 131,
      "outputs": []
    },
    {
      "cell_type": "code",
      "source": [
        "ensemble_accuracy"
      ],
      "metadata": {
        "colab": {
          "base_uri": "https://localhost:8080/"
        },
        "id": "Bvu3sJWNU5s9",
        "outputId": "fb3b74e0-1bbf-4313-b829-9db1e893629f"
      },
      "execution_count": 132,
      "outputs": [
        {
          "output_type": "execute_result",
          "data": {
            "text/plain": [
              "0.005454545454545455"
            ]
          },
          "metadata": {},
          "execution_count": 132
        }
      ]
    },
    {
      "cell_type": "code",
      "source": [],
      "metadata": {
        "id": "IFk3OCXOU-Zy"
      },
      "execution_count": null,
      "outputs": []
    },
    {
      "cell_type": "markdown",
      "source": [
        "##Test"
      ],
      "metadata": {
        "id": "Hf_ZOeWMVL1h"
      }
    },
    {
      "cell_type": "code",
      "source": [
        "import cv2"
      ],
      "metadata": {
        "id": "HC7xXEHKVNae"
      },
      "execution_count": 133,
      "outputs": []
    },
    {
      "cell_type": "code",
      "source": [
        "image= cv2.imread('/content/GoogleDrive/MyDrive/dataset/dataset/P.aeruginosa/13259.jpg')\n",
        "image= cv2.cvtColor(image,cv2.COLOR_BGR2RGB)\n",
        "image= cv2.resize(image,IMG_SIZE)\n",
        "image= np.expand_dims(image,axis=0)"
      ],
      "metadata": {
        "id": "fdNmVclNVQOh"
      },
      "execution_count": 163,
      "outputs": []
    },
    {
      "cell_type": "code",
      "source": [
        "pred= model1.predict(image)"
      ],
      "metadata": {
        "colab": {
          "base_uri": "https://localhost:8080/"
        },
        "id": "bOsSvfftVoth",
        "outputId": "26294741-4ce5-4c06-c2e9-8e279a211c51"
      },
      "execution_count": 164,
      "outputs": [
        {
          "output_type": "stream",
          "name": "stdout",
          "text": [
            "1/1 [==============================] - 0s 19ms/step\n"
          ]
        }
      ]
    },
    {
      "cell_type": "code",
      "source": [
        "pred"
      ],
      "metadata": {
        "colab": {
          "base_uri": "https://localhost:8080/"
        },
        "id": "Xaa2VFG6Vxfs",
        "outputId": "e7f53d2d-f288-4e9b-ff1d-b6814d16b9a4"
      },
      "execution_count": 165,
      "outputs": [
        {
          "output_type": "execute_result",
          "data": {
            "text/plain": [
              "array([[1.1006220e-02, 1.8927777e-04, 1.0731014e-03, 9.8441875e-01,\n",
              "        3.3127521e-03]], dtype=float32)"
            ]
          },
          "metadata": {},
          "execution_count": 165
        }
      ]
    },
    {
      "cell_type": "code",
      "source": [
        "ind=np.argmax(pred)"
      ],
      "metadata": {
        "id": "x4Oo6J1TXTdV"
      },
      "execution_count": 166,
      "outputs": []
    },
    {
      "cell_type": "code",
      "source": [
        "pred2= model2.predict(image)"
      ],
      "metadata": {
        "colab": {
          "base_uri": "https://localhost:8080/"
        },
        "id": "5YKAqaI3XWor",
        "outputId": "fa1920c9-5c05-4a4a-d9e6-4ed3e39df643"
      },
      "execution_count": 167,
      "outputs": [
        {
          "output_type": "stream",
          "name": "stdout",
          "text": [
            "1/1 [==============================] - 0s 45ms/step\n"
          ]
        }
      ]
    },
    {
      "cell_type": "code",
      "source": [
        "pred2"
      ],
      "metadata": {
        "colab": {
          "base_uri": "https://localhost:8080/"
        },
        "id": "DcayrBQgXk8Q",
        "outputId": "da98783e-9b9e-4196-ef61-cfac5e5acbd2"
      },
      "execution_count": 168,
      "outputs": [
        {
          "output_type": "execute_result",
          "data": {
            "text/plain": [
              "array([[0.12789895, 0.22642754, 0.14837658, 0.27141508, 0.22588189]],\n",
              "      dtype=float32)"
            ]
          },
          "metadata": {},
          "execution_count": 168
        }
      ]
    },
    {
      "cell_type": "code",
      "source": [
        "ind2=np.argmax(pred2)"
      ],
      "metadata": {
        "id": "IN_znJS7Xd-T"
      },
      "execution_count": 169,
      "outputs": []
    },
    {
      "cell_type": "code",
      "source": [
        "ind2"
      ],
      "metadata": {
        "colab": {
          "base_uri": "https://localhost:8080/"
        },
        "id": "1DiXkkmkdgLR",
        "outputId": "fd6f9f4f-4fef-4635-8da6-17a1d224d6d7"
      },
      "execution_count": 172,
      "outputs": [
        {
          "output_type": "execute_result",
          "data": {
            "text/plain": [
              "3"
            ]
          },
          "metadata": {},
          "execution_count": 172
        }
      ]
    },
    {
      "cell_type": "code",
      "source": [
        "classes[ind2]"
      ],
      "metadata": {
        "colab": {
          "base_uri": "https://localhost:8080/",
          "height": 36
        },
        "id": "US2KjbkuXiR7",
        "outputId": "de7b21c8-acae-4eaf-a2b9-b70e5462cc0b"
      },
      "execution_count": 171,
      "outputs": [
        {
          "output_type": "execute_result",
          "data": {
            "text/plain": [
              "'C.albicans'"
            ],
            "application/vnd.google.colaboratory.intrinsic+json": {
              "type": "string"
            }
          },
          "metadata": {},
          "execution_count": 171
        }
      ]
    },
    {
      "cell_type": "code",
      "source": [
        "from sklearn.metrics import accuracy_score"
      ],
      "metadata": {
        "id": "falhokNaXq4p"
      },
      "execution_count": 173,
      "outputs": []
    },
    {
      "cell_type": "code",
      "source": [
        "model2.evaluate(x_test,y_test)"
      ],
      "metadata": {
        "colab": {
          "base_uri": "https://localhost:8080/"
        },
        "id": "Z_KaRN-ceNmD",
        "outputId": "c237c5f7-c2c7-4779-b431-40b4825bf1fe"
      },
      "execution_count": 180,
      "outputs": [
        {
          "output_type": "stream",
          "name": "stdout",
          "text": [
            "4/4 [==============================] - 3s 77ms/step - loss: 0.2253 - accuracy: 0.9273\n"
          ]
        },
        {
          "output_type": "execute_result",
          "data": {
            "text/plain": [
              "[0.22531209886074066, 0.9272727370262146]"
            ]
          },
          "metadata": {},
          "execution_count": 180
        }
      ]
    },
    {
      "cell_type": "code",
      "source": [
        "preds1"
      ],
      "metadata": {
        "id": "ZaWKuKaMgBJo"
      },
      "execution_count": null,
      "outputs": []
    },
    {
      "cell_type": "code",
      "source": [],
      "metadata": {
        "id": "k1660M6Sdusq"
      },
      "execution_count": null,
      "outputs": []
    }
  ]
}